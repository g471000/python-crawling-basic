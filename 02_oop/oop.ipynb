{
 "cells": [
  {
   "cell_type": "code",
   "execution_count": 41,
   "id": "a3eddd4a",
   "metadata": {},
   "outputs": [],
   "source": [
    "class Song():\n",
    "    artist = 'Heize'\n",
    "    title = 'You Cloud Rain'\n",
    "    lyricist = 'Heize'\n",
    "    url = 'https://www.youtube.com/watch?v=afxLaQiLu-o'\n",
    "    comments = []\n",
    "    \n",
    "    def song_artist(self):\n",
    "        return self.artist\n",
    "    \n",
    "    def song_comment(self, comment):\n",
    "        self.comments[len(self.comments)] = comment\n",
    "        \n",
    "    def print_comments():\n",
    "        for c in self.comments:\n",
    "            print(c)"
   ]
  },
  {
   "cell_type": "code",
   "execution_count": 42,
   "id": "6242e463",
   "metadata": {},
   "outputs": [],
   "source": [
    "song1 = Song()\n",
    "song2 = Song()"
   ]
  },
  {
   "cell_type": "code",
   "execution_count": 43,
   "id": "5cef7956",
   "metadata": {},
   "outputs": [],
   "source": [
    "song1.title = 'Undo'\n",
    "song1.url = 'https://www.youtube.com/watch?v=N50tNOnlRKk'"
   ]
  },
  {
   "cell_type": "code",
   "execution_count": 44,
   "id": "36a41c69",
   "metadata": {},
   "outputs": [
    {
     "name": "stdout",
     "output_type": "stream",
     "text": [
      "Heize You Cloud Rain Heize https://www.youtube.com/watch?v=afxLaQiLu-o\n"
     ]
    }
   ],
   "source": [
    "print(song2.artist, song2.title, song2.lyricist, song2.url)"
   ]
  },
  {
   "cell_type": "code",
   "execution_count": 45,
   "id": "fd063448",
   "metadata": {},
   "outputs": [
    {
     "name": "stdout",
     "output_type": "stream",
     "text": [
      "Heize Undo Heize https://www.youtube.com/watch?v=N50tNOnlRKk\n"
     ]
    }
   ],
   "source": [
    "print(song1.artist, song1.title, song1.lyricist, song1.url)"
   ]
  },
  {
   "cell_type": "code",
   "execution_count": 46,
   "id": "c61a1171",
   "metadata": {},
   "outputs": [
    {
     "ename": "IndexError",
     "evalue": "list assignment index out of range",
     "output_type": "error",
     "traceback": [
      "\u001b[0;31m---------------------------------------------------------------------------\u001b[0m",
      "\u001b[0;31mIndexError\u001b[0m                                Traceback (most recent call last)",
      "\u001b[0;32m<ipython-input-46-3f011f4dd97a>\u001b[0m in \u001b[0;36m<module>\u001b[0;34m\u001b[0m\n\u001b[0;32m----> 1\u001b[0;31m \u001b[0msong2\u001b[0m\u001b[0;34m.\u001b[0m\u001b[0msong_comment\u001b[0m\u001b[0;34m(\u001b[0m\u001b[0;34m\"This is a master piece\"\u001b[0m\u001b[0;34m)\u001b[0m\u001b[0;34m\u001b[0m\u001b[0;34m\u001b[0m\u001b[0m\n\u001b[0m\u001b[1;32m      2\u001b[0m \u001b[0;31m# song2.print_comments()\u001b[0m\u001b[0;34m\u001b[0m\u001b[0;34m\u001b[0m\u001b[0;34m\u001b[0m\u001b[0m\n",
      "\u001b[0;32m<ipython-input-41-0f65a1c53e9b>\u001b[0m in \u001b[0;36msong_comment\u001b[0;34m(self, comment)\u001b[0m\n\u001b[1;32m     10\u001b[0m \u001b[0;34m\u001b[0m\u001b[0m\n\u001b[1;32m     11\u001b[0m     \u001b[0;32mdef\u001b[0m \u001b[0msong_comment\u001b[0m\u001b[0;34m(\u001b[0m\u001b[0mself\u001b[0m\u001b[0;34m,\u001b[0m \u001b[0mcomment\u001b[0m\u001b[0;34m)\u001b[0m\u001b[0;34m:\u001b[0m\u001b[0;34m\u001b[0m\u001b[0;34m\u001b[0m\u001b[0m\n\u001b[0;32m---> 12\u001b[0;31m         \u001b[0mself\u001b[0m\u001b[0;34m.\u001b[0m\u001b[0mcomments\u001b[0m\u001b[0;34m[\u001b[0m\u001b[0mlen\u001b[0m\u001b[0;34m(\u001b[0m\u001b[0mself\u001b[0m\u001b[0;34m.\u001b[0m\u001b[0mcomments\u001b[0m\u001b[0;34m)\u001b[0m\u001b[0;34m]\u001b[0m \u001b[0;34m=\u001b[0m \u001b[0mcomment\u001b[0m\u001b[0;34m\u001b[0m\u001b[0;34m\u001b[0m\u001b[0m\n\u001b[0m\u001b[1;32m     13\u001b[0m \u001b[0;34m\u001b[0m\u001b[0m\n\u001b[1;32m     14\u001b[0m     \u001b[0;32mdef\u001b[0m \u001b[0mprint_comments\u001b[0m\u001b[0;34m(\u001b[0m\u001b[0;34m)\u001b[0m\u001b[0;34m:\u001b[0m\u001b[0;34m\u001b[0m\u001b[0;34m\u001b[0m\u001b[0m\n",
      "\u001b[0;31mIndexError\u001b[0m: list assignment index out of range"
     ]
    }
   ],
   "source": [
    "song2.song_comment(\"This is a master piece\")\n",
    "# song2.print_comments()"
   ]
  },
  {
   "cell_type": "code",
   "execution_count": null,
   "id": "d7800abd",
   "metadata": {},
   "outputs": [],
   "source": []
  },
  {
   "cell_type": "code",
   "execution_count": null,
   "id": "b4648d6e",
   "metadata": {},
   "outputs": [],
   "source": []
  },
  {
   "cell_type": "code",
   "execution_count": null,
   "id": "7d5dd02f",
   "metadata": {},
   "outputs": [],
   "source": []
  }
 ],
 "metadata": {
  "kernelspec": {
   "display_name": "Python 3",
   "language": "python",
   "name": "python3"
  },
  "language_info": {
   "codemirror_mode": {
    "name": "ipython",
    "version": 3
   },
   "file_extension": ".py",
   "mimetype": "text/x-python",
   "name": "python",
   "nbconvert_exporter": "python",
   "pygments_lexer": "ipython3",
   "version": "3.8.8"
  }
 },
 "nbformat": 4,
 "nbformat_minor": 5
}
