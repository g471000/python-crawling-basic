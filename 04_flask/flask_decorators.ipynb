{
 "cells": [
  {
   "cell_type": "code",
   "execution_count": 10,
   "id": "d583c9dc",
   "metadata": {},
   "outputs": [],
   "source": [
    "def decorator1(num):\n",
    "    def outer_wrapper(function):\n",
    "        def inner_wrapper(*args, **kwargs):\n",
    "            print('decorator1 {}'.format(num))\n",
    "            return function(*args, **kwargs)\n",
    "        return inner_wrapper\n",
    "    return outer_wrapper"
   ]
  },
  {
   "cell_type": "code",
   "execution_count": 11,
   "id": "b0d4a70f",
   "metadata": {},
   "outputs": [],
   "source": [
    "def print_heize():\n",
    "    print('heize')"
   ]
  },
  {
   "cell_type": "code",
   "execution_count": 12,
   "id": "a0ee2506",
   "metadata": {},
   "outputs": [
    {
     "name": "stdout",
     "output_type": "stream",
     "text": [
      "decorator1 1\n",
      "heize\n"
     ]
    }
   ],
   "source": [
    "print_heize1 = decorator1(1)(print_heize)\n",
    "print_heize1()"
   ]
  },
  {
   "cell_type": "code",
   "execution_count": 14,
   "id": "70efa390",
   "metadata": {},
   "outputs": [],
   "source": [
    "@decorator1(num=2)\n",
    "def print_heize():\n",
    "    print('heize')"
   ]
  },
  {
   "cell_type": "code",
   "execution_count": 16,
   "id": "2ecc06bc",
   "metadata": {},
   "outputs": [
    {
     "name": "stdout",
     "output_type": "stream",
     "text": [
      "decorator1 2\n",
      "heize\n"
     ]
    }
   ],
   "source": [
    "print_heize()"
   ]
  },
  {
   "cell_type": "code",
   "execution_count": 19,
   "id": "52499f8f",
   "metadata": {},
   "outputs": [
    {
     "name": "stdout",
     "output_type": "stream",
     "text": [
      "<b>hi heize</b>\n",
      "<h1>Heize is the love.</h1>\n"
     ]
    }
   ],
   "source": [
    "def mark_html(tag):\n",
    "    def outer_wrapper(function):\n",
    "        def inner_wrapper(*args, **kwargs):\n",
    "            return '<' + tag + '>' + function(*args, **kwargs) + '</' + tag + '>'\n",
    "        return inner_wrapper\n",
    "    return outer_wrapper\n",
    "\n",
    "@mark_html('b')\n",
    "def print_hi_heize():\n",
    "    return 'hi heize'\n",
    "\n",
    "@mark_html('h1')\n",
    "def print_title(title):\n",
    "    return title\n",
    "\n",
    "print(print_hi_heize())\n",
    "print(print_title('Heize is the love.'))"
   ]
  }
 ],
 "metadata": {
  "kernelspec": {
   "display_name": "Python 3",
   "language": "python",
   "name": "python3"
  },
  "language_info": {
   "codemirror_mode": {
    "name": "ipython",
    "version": 3
   },
   "file_extension": ".py",
   "mimetype": "text/x-python",
   "name": "python",
   "nbconvert_exporter": "python",
   "pygments_lexer": "ipython3",
   "version": "3.8.8"
  }
 },
 "nbformat": 4,
 "nbformat_minor": 5
}
