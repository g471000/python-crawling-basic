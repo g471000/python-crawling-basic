{
 "cells": [
  {
   "cell_type": "code",
   "execution_count": 2,
   "id": "6f04cdc1",
   "metadata": {},
   "outputs": [],
   "source": [
    "def outer_func(num):\n",
    "    def inner_func():\n",
    "        print(num)\n",
    "        return '안녕'\n",
    "    \n",
    "    return inner_func"
   ]
  },
  {
   "cell_type": "code",
   "execution_count": 5,
   "id": "d453c0e2",
   "metadata": {},
   "outputs": [
    {
     "name": "stdout",
     "output_type": "stream",
     "text": [
      "10\n"
     ]
    },
    {
     "data": {
      "text/plain": [
       "'안녕'"
      ]
     },
     "execution_count": 5,
     "metadata": {},
     "output_type": "execute_result"
    }
   ],
   "source": [
    "closure_func = outer_func(10)\n",
    "closure_func()"
   ]
  },
  {
   "cell_type": "code",
   "execution_count": 7,
   "id": "33a5ce20",
   "metadata": {},
   "outputs": [],
   "source": [
    "def calc_power(n):\n",
    "    def power(digit):\n",
    "        return digit ** n\n",
    "    return power"
   ]
  },
  {
   "cell_type": "code",
   "execution_count": 8,
   "id": "5a5474e2",
   "metadata": {},
   "outputs": [],
   "source": [
    "power2 = calc_power(2)\n",
    "power3 = calc_power(3)\n",
    "power4 = calc_power(4)"
   ]
  },
  {
   "cell_type": "code",
   "execution_count": 11,
   "id": "7f858907",
   "metadata": {},
   "outputs": [
    {
     "name": "stdout",
     "output_type": "stream",
     "text": [
      "4\n",
      "8\n",
      "16\n"
     ]
    }
   ],
   "source": [
    "print(power2(2))\n",
    "print(power3(2))\n",
    "print(power4(2))"
   ]
  },
  {
   "cell_type": "code",
   "execution_count": null,
   "id": "8008df12",
   "metadata": {},
   "outputs": [],
   "source": [
    "list_data = list()\n",
    "for num in range(1, 6):\n",
    "    list_data.append(cal_power(nu))"
   ]
  }
 ],
 "metadata": {
  "kernelspec": {
   "display_name": "Python 3",
   "language": "python",
   "name": "python3"
  },
  "language_info": {
   "codemirror_mode": {
    "name": "ipython",
    "version": 3
   },
   "file_extension": ".py",
   "mimetype": "text/x-python",
   "name": "python",
   "nbconvert_exporter": "python",
   "pygments_lexer": "ipython3",
   "version": "3.8.8"
  }
 },
 "nbformat": 4,
 "nbformat_minor": 5
}
