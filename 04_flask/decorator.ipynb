{
 "cells": [
  {
   "cell_type": "code",
   "execution_count": 4,
   "id": "291cacf2",
   "metadata": {},
   "outputs": [],
   "source": [
    "import datetime\n",
    "\n",
    "def datatime_decorator(func):\n",
    "    def wrapper():\n",
    "        print('time ' + str(datetime.datetime.now()))\n",
    "        func()\n",
    "        print(datetime.datetime.now())\n",
    "    return wrapper"
   ]
  },
  {
   "cell_type": "code",
   "execution_count": 5,
   "id": "02326e8f",
   "metadata": {},
   "outputs": [
    {
     "name": "stdout",
     "output_type": "stream",
     "text": [
      "time 2022-07-24 19:54:25.013591\n",
      "David login\n",
      "2022-07-24 19:54:25.013632\n"
     ]
    }
   ],
   "source": [
    "@datatime_decorator\n",
    "def logger_login_david():\n",
    "    print(\"David login\")\n",
    "    \n",
    "logger_login_david()  "
   ]
  },
  {
   "cell_type": "code",
   "execution_count": 9,
   "id": "9822420b",
   "metadata": {},
   "outputs": [
    {
     "name": "stdout",
     "output_type": "stream",
     "text": [
      "time 2022-07-24 19:55:30.525958\n",
      "Heize login\n",
      "2022-07-24 19:55:30.525997\n"
     ]
    }
   ],
   "source": [
    "@datatime_decorator\n",
    "def logger_login_heize():\n",
    "    print(\"Heize login\")\n",
    "    \n",
    "logger_login_heize()  "
   ]
  },
  {
   "cell_type": "code",
   "execution_count": 8,
   "id": "eb548431",
   "metadata": {},
   "outputs": [
    {
     "name": "stdout",
     "output_type": "stream",
     "text": [
      "time 2022-07-24 19:55:28.579951\n",
      "Jieun login\n",
      "2022-07-24 19:55:28.579985\n"
     ]
    }
   ],
   "source": [
    "@datatime_decorator\n",
    "def logger_login_jieun():\n",
    "    print(\"Jieun login\")\n",
    "    \n",
    "logger_login_jieun()  "
   ]
  },
  {
   "cell_type": "code",
   "execution_count": 14,
   "id": "b505ab8d",
   "metadata": {},
   "outputs": [],
   "source": [
    "def outer_func(func):\n",
    "    def inner_func(digit1, digit2):\n",
    "        if digit2 == 0:\n",
    "            print('cannot be divided with zero')\n",
    "            return\n",
    "        func(digit1, digit2)\n",
    "    return inner_func"
   ]
  },
  {
   "cell_type": "code",
   "execution_count": 15,
   "id": "dcce3035",
   "metadata": {},
   "outputs": [],
   "source": [
    "@outer_func\n",
    "def divide(digit1, digit2):\n",
    "    print(digit1 / digit2)"
   ]
  },
  {
   "cell_type": "code",
   "execution_count": 16,
   "id": "6100047b",
   "metadata": {},
   "outputs": [
    {
     "name": "stdout",
     "output_type": "stream",
     "text": [
      "2.0\n"
     ]
    }
   ],
   "source": [
    "divide(4, 2)"
   ]
  },
  {
   "cell_type": "code",
   "execution_count": 17,
   "id": "0a5f163b",
   "metadata": {},
   "outputs": [
    {
     "name": "stdout",
     "output_type": "stream",
     "text": [
      "cannot be divided with zero\n"
     ]
    }
   ],
   "source": [
    "divide(9, 0)"
   ]
  },
  {
   "cell_type": "code",
   "execution_count": 19,
   "id": "b7c2d3c0",
   "metadata": {},
   "outputs": [
    {
     "name": "stdout",
     "output_type": "stream",
     "text": [
      "only support integer\n"
     ]
    }
   ],
   "source": [
    "def type_checker(func):\n",
    "    def inner_func(digit1, digit2):\n",
    "        if(type(digit1) != int) or (type(digit2) != int):\n",
    "            print('only support integer')\n",
    "            return\n",
    "        return func(digit1, digit2)\n",
    "    return inner_func\n",
    "\n",
    "@type_checker\n",
    "def multiply(digit1, digit2):\n",
    "    return digit1 * digit2\n",
    "\n",
    "multiply(1.1, 2)"
   ]
  },
  {
   "cell_type": "code",
   "execution_count": 36,
   "id": "bf1f543b",
   "metadata": {},
   "outputs": [],
   "source": [
    "def general_decorator(func):\n",
    "    def wrapper(*args, **kwargs):\n",
    "        print('funciton is decorated')\n",
    "        return func(*args, **kwargs)\n",
    "    return wrapper"
   ]
  },
  {
   "cell_type": "code",
   "execution_count": 37,
   "id": "f0cfe067",
   "metadata": {},
   "outputs": [],
   "source": [
    "@general_decorator\n",
    "def calc_square(digit):\n",
    "    return digit * digit\n",
    "\n",
    "@general_decorator\n",
    "def calc_plus(digit1, digit2):\n",
    "    return digit1 + digit2\n",
    "\n",
    "@general_decorator\n",
    "def calc_quad(digit):\n",
    "    return digit ** 4"
   ]
  },
  {
   "cell_type": "code",
   "execution_count": 39,
   "id": "6ef276e1",
   "metadata": {},
   "outputs": [
    {
     "name": "stdout",
     "output_type": "stream",
     "text": [
      "funciton is decorated\n",
      "4\n",
      "funciton is decorated\n",
      "5\n",
      "funciton is decorated\n",
      "16\n"
     ]
    }
   ],
   "source": [
    "print(calc_square(2))\n",
    "print(calc_plus(2, 3))\n",
    "print(calc_quad(2))"
   ]
  },
  {
   "cell_type": "code",
   "execution_count": 41,
   "id": "f34ad102",
   "metadata": {},
   "outputs": [],
   "source": [
    "def decorator1(func):\n",
    "    def wrapper():\n",
    "        print('decorator1')\n",
    "        func()\n",
    "    return wrapper\n",
    "\n",
    "def decorator2(func):\n",
    "    def wrapper():\n",
    "        print('decorator2')\n",
    "        func()\n",
    "    return wrapper"
   ]
  },
  {
   "cell_type": "code",
   "execution_count": 43,
   "id": "71d551f4",
   "metadata": {},
   "outputs": [],
   "source": [
    "@decorator1\n",
    "@decorator2\n",
    "def hello():\n",
    "    print('hello')"
   ]
  },
  {
   "cell_type": "code",
   "execution_count": 45,
   "id": "f0715512",
   "metadata": {},
   "outputs": [
    {
     "name": "stdout",
     "output_type": "stream",
     "text": [
      "decorator1\n",
      "decorator2\n",
      "hello\n"
     ]
    }
   ],
   "source": [
    "hello()"
   ]
  },
  {
   "cell_type": "code",
   "execution_count": 47,
   "id": "2848e622",
   "metadata": {},
   "outputs": [],
   "source": [
    "def mark_bold(func):\n",
    "    def wrapper(*args, **kwargs):\n",
    "        return '<b>' + func(*args, **kwargs) + '</b>'\n",
    "    return wrapper\n",
    "\n",
    "def mark_italic(func):\n",
    "    def wrapper(*args, **kwargs):\n",
    "        return '<i>' + func(*args, **kwargs) + '</i>'\n",
    "    return wrapper"
   ]
  },
  {
   "cell_type": "code",
   "execution_count": 48,
   "id": "4be43aa6",
   "metadata": {},
   "outputs": [
    {
     "name": "stdout",
     "output_type": "stream",
     "text": [
      "<b><i>사랑해요 장다혜</i></b>\n"
     ]
    }
   ],
   "source": [
    "@mark_bold\n",
    "@mark_italic\n",
    "def add_html(string):\n",
    "    return string\n",
    "\n",
    "print(add_html('사랑해요 장다혜'))"
   ]
  }
 ],
 "metadata": {
  "kernelspec": {
   "display_name": "Python 3",
   "language": "python",
   "name": "python3"
  },
  "language_info": {
   "codemirror_mode": {
    "name": "ipython",
    "version": 3
   },
   "file_extension": ".py",
   "mimetype": "text/x-python",
   "name": "python",
   "nbconvert_exporter": "python",
   "pygments_lexer": "ipython3",
   "version": "3.8.8"
  }
 },
 "nbformat": 4,
 "nbformat_minor": 5
}
