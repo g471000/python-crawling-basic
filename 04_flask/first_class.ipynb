{
 "cells": [
  {
   "cell_type": "code",
   "execution_count": 4,
   "id": "9da4c3e1",
   "metadata": {},
   "outputs": [],
   "source": [
    "def html_creator(tag):\n",
    "    def text_wrapper(msg):\n",
    "        print('<{0}>{1}</{0}>'.format(tag, msg))\n",
    "    return text_wrapper"
   ]
  },
  {
   "cell_type": "code",
   "execution_count": 5,
   "id": "cd71c237",
   "metadata": {},
   "outputs": [
    {
     "name": "stdout",
     "output_type": "stream",
     "text": [
      "<function html_creator.<locals>.text_wrapper at 0x7fbd2d582d30>\n"
     ]
    }
   ],
   "source": [
    "h1_html_creator = html_creator('h1')\n",
    "print(h1_html_creator)"
   ]
  },
  {
   "cell_type": "code",
   "execution_count": 7,
   "id": "9aaa045b",
   "metadata": {},
   "outputs": [
    {
     "name": "stdout",
     "output_type": "stream",
     "text": [
      "<p>P tag is for showing paragraph</p>\n"
     ]
    }
   ],
   "source": [
    "p_html_creator = html_creator('p')\n",
    "p_html_creator('P tag is for showing paragraph')"
   ]
  },
  {
   "cell_type": "code",
   "execution_count": 13,
   "id": "495cbdf7",
   "metadata": {},
   "outputs": [
    {
     "name": "stdout",
     "output_type": "stream",
     "text": [
      "안녕하세요 -\n",
      "다혜 -\n",
      "안녕하세요 ?\n",
      "다혜 ?\n",
      "안녕하세요 !\n",
      "다혜 !\n"
     ]
    }
   ],
   "source": [
    "def list_creator(tag):\n",
    "    def text_wrapper(list_data):\n",
    "        for item in list_data:\n",
    "            print('{1} {0}'.format(tag, item))\n",
    "    return text_wrapper\n",
    "\n",
    "data_list_minus = list_creator('-')\n",
    "data_list_minus(['안녕하세요', '다혜'])\n",
    "\n",
    "data_list_question = list_creator('?')\n",
    "data_list_question(['안녕하세요', '다혜'])\n",
    "\n",
    "data_list_exclmation = list_creator('!')\n",
    "data_list_exclmation(['안녕하세요', '다혜'])"
   ]
  },
  {
   "cell_type": "code",
   "execution_count": null,
   "id": "cfdc5feb",
   "metadata": {},
   "outputs": [],
   "source": []
  }
 ],
 "metadata": {
  "kernelspec": {
   "display_name": "Python 3",
   "language": "python",
   "name": "python3"
  },
  "language_info": {
   "codemirror_mode": {
    "name": "ipython",
    "version": 3
   },
   "file_extension": ".py",
   "mimetype": "text/x-python",
   "name": "python",
   "nbconvert_exporter": "python",
   "pygments_lexer": "ipython3",
   "version": "3.8.8"
  }
 },
 "nbformat": 4,
 "nbformat_minor": 5
}
