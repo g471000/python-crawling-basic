{
 "cells": [
  {
   "cell_type": "code",
   "execution_count": 11,
   "id": "af834ad1",
   "metadata": {},
   "outputs": [],
   "source": [
    "def calc_square(digit):\n",
    "    return digit * digit;\n",
    "\n",
    "def calc_plus(digit):\n",
    "    return digit + digit;\n",
    "\n",
    "def calc_quad(digit):\n",
    "    return digit * digit * digit * digit;"
   ]
  },
  {
   "cell_type": "code",
   "execution_count": 12,
   "id": "b9289e85",
   "metadata": {},
   "outputs": [
    {
     "name": "stdout",
     "output_type": "stream",
     "text": [
      "<function calc_square at 0x7fab6b14ab80>\n"
     ]
    }
   ],
   "source": [
    "calc_square(2)\n",
    "func1  = calc_square\n",
    "print(func1)"
   ]
  },
  {
   "cell_type": "code",
   "execution_count": 13,
   "id": "63203224",
   "metadata": {},
   "outputs": [
    {
     "data": {
      "text/plain": [
       "4"
      ]
     },
     "execution_count": 13,
     "metadata": {},
     "output_type": "execute_result"
    }
   ],
   "source": [
    "func1(2)"
   ]
  },
  {
   "cell_type": "code",
   "execution_count": 14,
   "id": "fbc4fad9",
   "metadata": {},
   "outputs": [],
   "source": [
    "def list_calc(function, digit_list):\n",
    "    result = list()\n",
    "    for digit in digit_list:\n",
    "        result.append(function(digit))\n",
    "    print(result)\n",
    "    print('-----')"
   ]
  },
  {
   "cell_type": "code",
   "execution_count": 16,
   "id": "573f717a",
   "metadata": {},
   "outputs": [
    {
     "name": "stdout",
     "output_type": "stream",
     "text": [
      "[1, 4, 9, 16, 25]\n",
      "-----\n",
      "[2, 4, 6, 8, 10]\n",
      "-----\n",
      "[1, 16, 81, 256, 625]\n",
      "-----\n"
     ]
    }
   ],
   "source": [
    "num_list = [1, 2, 3, 4, 5]\n",
    "list_calc(calc_square, num_list)\n",
    "list_calc(calc_plus, num_list)\n",
    "list_calc(calc_quad, num_list)"
   ]
  },
  {
   "cell_type": "code",
   "execution_count": 17,
   "id": "23a68954",
   "metadata": {},
   "outputs": [],
   "source": [
    "def logger(msg):\n",
    "    message = msg\n",
    "    def msg_creator():\n",
    "        print('[HIGH LEVEL]:', message)\n",
    "    return msg_creator"
   ]
  },
  {
   "cell_type": "code",
   "execution_count": 18,
   "id": "3f5f827d",
   "metadata": {},
   "outputs": [],
   "source": [
    "log1 = logger(\"Dave Log-in\")"
   ]
  },
  {
   "cell_type": "code",
   "execution_count": 19,
   "id": "115e2dd8",
   "metadata": {},
   "outputs": [
    {
     "name": "stdout",
     "output_type": "stream",
     "text": [
      "<function logger.<locals>.msg_creator at 0x7fab6b14af70>\n"
     ]
    }
   ],
   "source": [
    "print(log1)"
   ]
  },
  {
   "cell_type": "code",
   "execution_count": 20,
   "id": "ff926ff4",
   "metadata": {},
   "outputs": [
    {
     "name": "stdout",
     "output_type": "stream",
     "text": [
      "[HIGH LEVEL]: Dave Log-in\n"
     ]
    }
   ],
   "source": [
    "log1()"
   ]
  },
  {
   "cell_type": "code",
   "execution_count": null,
   "id": "f4525cd0",
   "metadata": {},
   "outputs": [],
   "source": []
  }
 ],
 "metadata": {
  "kernelspec": {
   "display_name": "Python 3",
   "language": "python",
   "name": "python3"
  },
  "language_info": {
   "codemirror_mode": {
    "name": "ipython",
    "version": 3
   },
   "file_extension": ".py",
   "mimetype": "text/x-python",
   "name": "python",
   "nbconvert_exporter": "python",
   "pygments_lexer": "ipython3",
   "version": "3.8.8"
  }
 },
 "nbformat": 4,
 "nbformat_minor": 5
}
