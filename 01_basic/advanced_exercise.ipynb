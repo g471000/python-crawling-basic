{
 "cells": [
  {
   "cell_type": "code",
   "execution_count": 10,
   "id": "b663eada",
   "metadata": {},
   "outputs": [
    {
     "name": "stdout",
     "output_type": "stream",
     "text": [
      "100\n",
      "111200 원\n"
     ]
    }
   ],
   "source": [
    "# $1 = 1112 won\n",
    "\n",
    "prices = '100 dollars'\n",
    "price_dollar = int(prices[:3])\n",
    "print(price_dollar)\n",
    "\n",
    "print(price_dollar * 1112, '원')"
   ]
  },
  {
   "cell_type": "code",
   "execution_count": 11,
   "id": "9cccf6bd",
   "metadata": {},
   "outputs": [
    {
     "name": "stdout",
     "output_type": "stream",
     "text": [
      "a\n",
      "e\n"
     ]
    }
   ],
   "source": [
    "### Using tuple\n",
    "\n",
    "abc = ['a', 'b', 'c', 'd', 'e']\n",
    "print(abc[0])\n",
    "print(abc[len(abc) - 1])"
   ]
  }
 ],
 "metadata": {
  "kernelspec": {
   "display_name": "Python 3",
   "language": "python",
   "name": "python3"
  },
  "language_info": {
   "codemirror_mode": {
    "name": "ipython",
    "version": 3
   },
   "file_extension": ".py",
   "mimetype": "text/x-python",
   "name": "python",
   "nbconvert_exporter": "python",
   "pygments_lexer": "ipython3",
   "version": "3.8.8"
  }
 },
 "nbformat": 4,
 "nbformat_minor": 5
}
