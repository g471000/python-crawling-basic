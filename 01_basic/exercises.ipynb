{
 "cells": [
  {
   "cell_type": "code",
   "execution_count": 1,
   "id": "946b2aa4",
   "metadata": {},
   "outputs": [
    {
     "name": "stdout",
     "output_type": "stream",
     "text": [
      "<class 'int'>\n",
      "<class 'float'>\n",
      "<class 'str'>\n"
     ]
    }
   ],
   "source": [
    "## Exercise 1\n",
    "# type of 10, 2.2 \"heize\" \n",
    "\n",
    "val1 = 10\n",
    "val2 = 2.2\n",
    "val3 = \"heize\"\n",
    "\n",
    "print(type(val1))\n",
    "print(type(val2))\n",
    "print(type(val3))"
   ]
  },
  {
   "cell_type": "code",
   "execution_count": 2,
   "id": "51d37eb8",
   "metadata": {},
   "outputs": [
    {
     "name": "stdout",
     "output_type": "stream",
     "text": [
      "000660\n",
      "00000102\t123123132\n"
     ]
    }
   ],
   "source": [
    "# \\n -> new line\n",
    "# \\t -> tab\n",
    "\n",
    "code = \"000660\\n00000102\\t123123132\"\n",
    "print(code)"
   ]
  },
  {
   "cell_type": "code",
   "execution_count": 4,
   "id": "b264d13c",
   "metadata": {},
   "outputs": [
    {
     "name": "stdout",
     "output_type": "stream",
     "text": [
      "10\n",
      "20\n",
      "20\n"
     ]
    }
   ],
   "source": [
    "input1 = int(input())\n",
    "input2 = int(input())\n",
    "\n",
    "if input1 > input2:\n",
    "    print(input1)\n",
    "else:\n",
    "    print(input2)"
   ]
  },
  {
   "cell_type": "code",
   "execution_count": 7,
   "id": "806fa75c",
   "metadata": {},
   "outputs": [
    {
     "name": "stdout",
     "output_type": "stream",
     "text": [
      "13\n",
      "13 is odd.\n"
     ]
    }
   ],
   "source": [
    "input3 = int(input())\n",
    "\n",
    "if input3 % 2 == 0:\n",
    "    print(input3, \"is even.\")\n",
    "else:\n",
    "    print(input3, \"is odd.\")"
   ]
  },
  {
   "cell_type": "code",
   "execution_count": 8,
   "id": "98377eb6",
   "metadata": {},
   "outputs": [
    {
     "name": "stdout",
     "output_type": "stream",
     "text": [
      "Insert 3 numbers:\n",
      "3\n",
      "1\n",
      "65\n",
      "min number is 1\n"
     ]
    }
   ],
   "source": [
    "print(\"Insert 3 numbers:\")\n",
    "input4 = int(input())\n",
    "input5 = int(input())\n",
    "input6 = int(input())\n",
    "\n",
    "min = input4\n",
    "if min > input5:\n",
    "    min = input5\n",
    "\n",
    "if min > input6:\n",
    "    min = input6\n",
    "    \n",
    "print(\"min number is\", min)"
   ]
  },
  {
   "cell_type": "code",
   "execution_count": 14,
   "id": "1a8a74f0",
   "metadata": {},
   "outputs": [
    {
     "name": "stdout",
     "output_type": "stream",
     "text": [
      "55\n",
      "C\n"
     ]
    }
   ],
   "source": [
    "# A: 100 ~ 81\n",
    "# B: 80 ~ 61\n",
    "# C: 60 ~ 0\n",
    "\n",
    "score = int(input())\n",
    "\n",
    "if score >= 81 and score <= 100:\n",
    "    print(\"A\")\n",
    "elif score >= 61 and score <= 80:\n",
    "    print(\"B\")\n",
    "elif score >= 0 and score <= 60:\n",
    "    print(\"C\")\n",
    "else:\n",
    "    print(\"Invalid Score\")"
   ]
  },
  {
   "cell_type": "code",
   "execution_count": 20,
   "id": "e82c27f1",
   "metadata": {},
   "outputs": [
    {
     "name": "stdout",
     "output_type": "stream",
     "text": [
      "주민번호를 입력하세요.891214-2483515\n",
      "89\n",
      "2\n",
      "female\n"
     ]
    }
   ],
   "source": [
    "# Print out birth year\n",
    "\n",
    "social_num = input(\"주민번호를 입력하세요.\")\n",
    "\n",
    "print(social_num[0:2])\n",
    "social_num_list = social_num.split(\"-\")\n",
    "gender_num = int(social_num_list[1][0:1])\n",
    "print(gender_num)\n",
    "\n",
    "if gender_num == 1 or gender_num == 3:\n",
    "    print(\"male\")\n",
    "elif gender_num == 2 or gender_num == 4:\n",
    "    print(\"female\")\n",
    "else:\n",
    "    print(\"Unknown\")"
   ]
  },
  {
   "cell_type": "code",
   "execution_count": 26,
   "id": "dd3d57d4",
   "metadata": {},
   "outputs": [
    {
     "name": "stdout",
     "output_type": "stream",
     "text": [
      "You can make it happen You can make it heaven\n"
     ]
    }
   ],
   "source": [
    "# strip\n",
    "\n",
    "happen_lyrics = \"You can make it happen You can make it heaven...\"\n",
    "print(happen_lyrics.strip(\".\"))"
   ]
  },
  {
   "cell_type": "code",
   "execution_count": 29,
   "id": "b2dd9a5d",
   "metadata": {},
   "outputs": [
    {
     "name": "stdout",
     "output_type": "stream",
     "text": [
      "heize\n"
     ]
    }
   ],
   "source": [
    "code = '         heize\\n'\n",
    "print(code.strip(' ').strip('\\n'))"
   ]
  },
  {
   "cell_type": "code",
   "execution_count": 32,
   "id": "a589d23c",
   "metadata": {},
   "outputs": [
    {
     "name": "stdout",
     "output_type": "stream",
     "text": [
      "3\n",
      "28\n"
     ]
    }
   ],
   "source": [
    "happen_kor_lyrics = \"\"\"\n",
    "처음이라기엔 너무\n",
    "길을 이미 다 아는 듯이\n",
    "우연히라기엔 모두\n",
    "다 정해진 듯이\n",
    "우연히 눈을 떠 보니\n",
    "이 세상에 태어나 있었고\n",
    "하필 네가 있는 곳이었다\n",
    "서서히 몸에 배어버린\n",
    "사소한 습관들이\n",
    "네게로 가는 길을 내게 알려줘\n",
    "처음이라기엔 너무\n",
    "길을 이미 다 아는 듯이\n",
    "우연히라기엔 모두\n",
    "다 정해진 듯이\n",
    "고통의 사랑도\n",
    "보통의 이별도\n",
    "You can make it happen\n",
    "You can make it heaven\n",
    "우연히라기엔 모두\n",
    "다 정해진 듯이\n",
    "만약 내가 그때 그곳을\n",
    "헤매지 않았더라면\n",
    "그날 네가 마음 아픈 이별을 안 했었더라면\n",
    "네 뒤를 따라 걷던 곳\n",
    "네가 떨어트렸던 꽃\n",
    "위태롭던 시간 속\n",
    "서로를 기다려왔어\n",
    "운명이라고 하기엔\n",
    "이를 수 있다 생각해\n",
    "우연히라고 하기엔\n",
    "설명이 필요한 것 같아\n",
    "어쩌면 또 스칠 수 있을지 몰라도\n",
    "지금이 아니면 안 될 것 같던 그 때로\n",
    "처음이라기엔 너무\n",
    "길을 이미 다 아는 듯이\n",
    "우연히라기엔 모두\n",
    "다 정해진 듯이\n",
    "고통의 사랑도\n",
    "보통의 이별도\n",
    "You can make it happen\n",
    "You can make it heaven\n",
    "우연히라기엔 모두\n",
    "다 정해진 듯이\n",
    "어쩌면 기억을 지운 채로\n",
    "하나였던 우린 둘이 되고\n",
    "운명이란 작은 점 안에서\n",
    "서로를 찾으며 살았는지도\n",
    "고통의 사랑도 보통의 이별도\n",
    "You can make it happen\n",
    "You can make it heaven\n",
    "우연히라기엔 모두\n",
    "다 정해진 듯이\n",
    "우연히 서서히\n",
    "점점 더 멀어져가\n",
    "우연히 천천히\n",
    "처음 그곳으로 가\n",
    "\"\"\"\n",
    "\n",
    "# count happen\n",
    "print(happen_kor_lyrics.count(\"happen\"))\n",
    "\n",
    "# count \"이\"\n",
    "print(happen_kor_lyrics.count(\"이\"))"
   ]
  },
  {
   "cell_type": "code",
   "execution_count": 8,
   "id": "1f608dd7",
   "metadata": {},
   "outputs": [
    {
     "name": "stdout",
     "output_type": "stream",
     "text": [
      "Insert a word: \n",
      "Does not contain h!\n"
     ]
    }
   ],
   "source": [
    "input_word = input(\"Insert a word: \")\n",
    "if input_word.find('h') != -1:\n",
    "    print(\"Contains h!\")\n",
    "else:\n",
    "    print(\"Does not contain h!\")"
   ]
  },
  {
   "cell_type": "code",
   "execution_count": null,
   "id": "23857ee0",
   "metadata": {},
   "outputs": [],
   "source": []
  },
  {
   "cell_type": "code",
   "execution_count": null,
   "id": "5f649a63",
   "metadata": {},
   "outputs": [],
   "source": []
  }
 ],
 "metadata": {
  "kernelspec": {
   "display_name": "Python 3",
   "language": "python",
   "name": "python3"
  },
  "language_info": {
   "codemirror_mode": {
    "name": "ipython",
    "version": 3
   },
   "file_extension": ".py",
   "mimetype": "text/x-python",
   "name": "python",
   "nbconvert_exporter": "python",
   "pygments_lexer": "ipython3",
   "version": "3.8.8"
  }
 },
 "nbformat": 4,
 "nbformat_minor": 5
}
