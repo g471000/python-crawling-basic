{
 "cells": [
  {
   "cell_type": "code",
   "execution_count": 1,
   "id": "44d2f695",
   "metadata": {},
   "outputs": [],
   "source": [
    "# Input and Print"
   ]
  },
  {
   "cell_type": "code",
   "execution_count": 4,
   "id": "d48a913f",
   "metadata": {},
   "outputs": [
    {
     "name": "stdout",
     "output_type": "stream",
     "text": [
      "3\n",
      "2\n",
      "377\n"
     ]
    }
   ],
   "source": [
    "article = \"\"\"\n",
    "'Undo'\n",
    " \n",
    "Singer-songwriter Heize, right, discusses her second full-length album “Undo” during Thursday’s online press conference. The album, which dropped the same day, is her first full-length release in more than three years. “Undo” features 10 tracks centering around the themes of time and heartbreak. Heize is known for her sentimental ballads about breakups. [P NATION]\n",
    "\"\"\"\n",
    "\n",
    "print(article.count(\"Undo\"))\n",
    "print(article.find(\"Undo\"))\n",
    "print(len(article))"
   ]
  },
  {
   "cell_type": "code",
   "execution_count": null,
   "id": "0ebc254b",
   "metadata": {},
   "outputs": [],
   "source": [
    "name = \"heize\"\n"
   ]
  },
  {
   "cell_type": "code",
   "execution_count": null,
   "id": "d3959ea4",
   "metadata": {},
   "outputs": [],
   "source": []
  },
  {
   "cell_type": "code",
   "execution_count": null,
   "id": "6966e294",
   "metadata": {},
   "outputs": [],
   "source": []
  }
 ],
 "metadata": {
  "kernelspec": {
   "display_name": "Python 3",
   "language": "python",
   "name": "python3"
  },
  "language_info": {
   "codemirror_mode": {
    "name": "ipython",
    "version": 3
   },
   "file_extension": ".py",
   "mimetype": "text/x-python",
   "name": "python",
   "nbconvert_exporter": "python",
   "pygments_lexer": "ipython3",
   "version": "3.8.8"
  }
 },
 "nbformat": 4,
 "nbformat_minor": 5
}
