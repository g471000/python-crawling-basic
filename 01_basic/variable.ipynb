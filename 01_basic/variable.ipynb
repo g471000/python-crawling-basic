{
 "cells": [
  {
   "cell_type": "code",
   "execution_count": 3,
   "id": "6166ec4a",
   "metadata": {},
   "outputs": [
    {
     "name": "stdout",
     "output_type": "stream",
     "text": [
      "hello python!\n",
      "hello 1 1.1 True\n"
     ]
    }
   ],
   "source": [
    "print(\"hello python!\")\n",
    "str_data = \"hello\"\n",
    "int_data = 1\n",
    "float_data = 1.1\n",
    "bool_data = True\n",
    "\n",
    "print(str_data, int_data, float_data, bool_data)"
   ]
  },
  {
   "cell_type": "code",
   "execution_count": 5,
   "id": "bafae12f",
   "metadata": {},
   "outputs": [
    {
     "name": "stdout",
     "output_type": "stream",
     "text": [
      "<class 'str'>\n",
      "<class 'int'>\n"
     ]
    }
   ],
   "source": [
    "x = '720'\n",
    "print(type(x))\n",
    "x_int = int(720)\n",
    "print(type(x_int))"
   ]
  },
  {
   "cell_type": "code",
   "execution_count": 7,
   "id": "b2ba0396",
   "metadata": {},
   "outputs": [
    {
     "name": "stdout",
     "output_type": "stream",
     "text": [
      "<class 'int'>\n",
      "<class 'str'>\n"
     ]
    }
   ],
   "source": [
    "y = 100\n",
    "print(type(y))\n",
    "y_str = str(y)\n",
    "print(type(y_str))"
   ]
  },
  {
   "cell_type": "code",
   "execution_count": null,
   "id": "4413d6da",
   "metadata": {},
   "outputs": [],
   "source": [
    "num1 = 2\n",
    "num2 = 4\n",
    "print(num1 + num2)\n"
   ]
  }
 ],
 "metadata": {
  "kernelspec": {
   "display_name": "Python 3",
   "language": "python",
   "name": "python3"
  },
  "language_info": {
   "codemirror_mode": {
    "name": "ipython",
    "version": 3
   },
   "file_extension": ".py",
   "mimetype": "text/x-python",
   "name": "python",
   "nbconvert_exporter": "python",
   "pygments_lexer": "ipython3",
   "version": "3.8.8"
  }
 },
 "nbformat": 4,
 "nbformat_minor": 5
}
