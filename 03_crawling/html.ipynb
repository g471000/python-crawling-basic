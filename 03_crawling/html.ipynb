{
 "cells": [
  {
   "cell_type": "code",
   "execution_count": 3,
   "id": "437ac33d",
   "metadata": {},
   "outputs": [],
   "source": [
    "# requests: get webpage\n",
    "# bs4(BeautifulSoup) crawling library\n",
    "\n",
    "import requests\n",
    "from bs4 import BeautifulSoup\n",
    "\n",
    "res = requests.get('https://52hz.kr/bangpli-select')\n",
    "\n",
    "soup = BeautifulSoup(res.content, 'html.parser')"
   ]
  },
  {
   "cell_type": "code",
   "execution_count": 4,
   "id": "b82963e0",
   "metadata": {},
   "outputs": [
    {
     "name": "stdout",
     "output_type": "stream",
     "text": [
      "방플리 | 음원정보팀\n"
     ]
    }
   ],
   "source": [
    "mydata = soup.find('title')\n",
    "print(mydata.get_text())"
   ]
  },
  {
   "cell_type": "code",
   "execution_count": 13,
   "id": "cea5f114",
   "metadata": {},
   "outputs": [
    {
     "name": "stdout",
     "output_type": "stream",
     "text": [
      "<h1 cssstyle'=\"\" id=\"title&gt;[1] What is crawling?&lt;/h1&gt;                 &lt;p class=\">Getting specific information from webpage <p align=\"center\" id=\"body\">There are many web crawling technology using Python</p> </h1>\n",
      "None\n",
      "Getting specific information from webpage There are many web crawling technology using Python \n"
     ]
    }
   ],
   "source": [
    "from bs4 import BeautifulSoup\n",
    "html = \"<html> \\\n",
    "            <body> \\\n",
    "                <h1 id = 'title>[1] What is crawling?</h1> \\\n",
    "                <p class='cssstyle'>Getting specific information from webpage</p> \\\n",
    "                <p id='body' align='center'>There are many web crawling technology using Python</p> \\\n",
    "            </body> \\\n",
    "        </html>\"\n",
    "\n",
    "soup = BeautifulSoup(html, \"html.parser\")\n",
    "data = soup.find('h1')\n",
    "print(data)\n",
    "print(data.string)\n",
    "print(data.get_text())"
   ]
  },
  {
   "cell_type": "code",
   "execution_count": 15,
   "id": "b67a9fd6",
   "metadata": {},
   "outputs": [
    {
     "name": "stdout",
     "output_type": "stream",
     "text": [
      "There are many web crawling technology using Python\n"
     ]
    }
   ],
   "source": [
    "data3 = soup.find(id='body')\n",
    "print(data3.get_text())"
   ]
  }
 ],
 "metadata": {
  "kernelspec": {
   "display_name": "Python 3",
   "language": "python",
   "name": "python3"
  },
  "language_info": {
   "codemirror_mode": {
    "name": "ipython",
    "version": 3
   },
   "file_extension": ".py",
   "mimetype": "text/x-python",
   "name": "python",
   "nbconvert_exporter": "python",
   "pygments_lexer": "ipython3",
   "version": "3.8.8"
  }
 },
 "nbformat": 4,
 "nbformat_minor": 5
}
